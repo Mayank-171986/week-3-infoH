{
 "cells": [
  {
   "cell_type": "markdown",
   "id": "0dead82f",
   "metadata": {},
   "source": [
    "<font color='darkred'> Unless otherwise noted, **this notebook will not be reviewed or autograded.**</font> You are welcome to use it for scratchwork, but **only the files listed in the exercises will be checked.**\n",
    "\n",
    "---\n",
    "\n",
    "# Exercises\n",
    "\n",
    "For these exercises, add your functions to the *apputil\\.py* file. If you like, you're welcome to adjust the *app\\.py* file, but it is not required."
   ]
  },
  {
   "cell_type": "markdown",
   "id": "a7ef09a6",
   "metadata": {},
   "source": [
    "## Notes on Recursion\n",
    "\n",
    "A [recursive function](https://www.w3schools.com/python/gloss_python_function_recursion.asp) is one which calls itself.\n",
    "\n",
    "1. When the function is called, your CPU runs through each line of code until the function needs to be called again.\n",
    "2. At that point, all variables are saved in memory, and the function runs through each line of code again until the function is called (again, but with a different passed argument), and so on.\n",
    "3. Eventually, this process will stop at the \"bottom of the **stack**\", where the function doesn't get a chance to call itself again (likely because of some condition un/met by the latest passed argument).\n",
    "4. Then, your CPU will work its way back up the stack to the final result. For example, take a look at [this visual example](https://realpython.com/python-recursion/#calculate-factorial) of calculating 4!.\n",
    "\n",
    "When you write these functions, keep two things in mind:\n",
    "\n",
    "- You will need a built-in stopping point (i.e., the \"bottom\"), where your function returns some result before it calls itself.\n",
    "- **Don't think too hard about this.** Recursion can be perplexing to conceptualize when writing the code. So, when you call the function inside the function, think about it as a magical \"hidden\" function that has already done what you want it to do.\n",
    "- [Python Tutor](https://pythontutor.com/) ([editor](https://pythontutor.com/visualize.html#mode=edit)) can be a helpful resource for this exercise!\n",
    "\n",
    "## Exercise 1\n",
    "\n",
    "The Fibonacci Series starts with 0 and 1. Each of the following numbers are the sum of the previous two numbers in the series:\n",
    "\n",
    "`0 1 1 2 3 5 8 13 21 34 ...`\n",
    "\n",
    "So, `fib(9) = 34`.\n",
    "\n",
    "Write a recursive function (`fib`) that, given `n`, will return the `n`th number of the Fibonacci Series.\n",
    "\n",
    "*Test your function using Google or any other tool that can calculate the Fibonacci Series.*"
   ]
  },
  {
   "cell_type": "code",
   "execution_count": null,
   "id": "10b9210f",
   "metadata": {},
   "outputs": [],
   "source": [
    "\"\"\"\n",
    "This funtion is a recursive function that will return the nth number of fibonacci series for a given n\n",
    "Parameters:\n",
    " n: It is the position of a number in fibonacci series, it is a non-negative integer.\n",
    "Returns:\n",
    " This fuction will return the nth number of fibonacci series for a given n\n",
    "\"\"\"\n",
    "def fib_rec(n):\n",
    "    # This is the base case to exit the recursive function. \n",
    "    if n<=0:\n",
    "        return 0\n",
    "    elif n == 1:\n",
    "        return 1\n",
    "    else:\n",
    "        return fib_rec(n-1) + fib_rec(n-2)\n",
    "    # This is the function to call the recursive function.\n",
    "def fib(n):\n",
    "    fibonacci = [fib_rec(i) for i in  range(n+1)]\n",
    "    print(fibonacci)\n",
    "    return(fibonacci[n])"
   ]
  },
  {
   "cell_type": "code",
   "execution_count": 32,
   "metadata": {},
   "outputs": [
    {
     "name": "stdout",
     "output_type": "stream",
     "text": [
      "[0, 1, 1, 2, 3, 5, 8, 13, 21, 34]\n",
      "34\n"
     ]
    }
   ],
   "source": [
    "print(fib(9))"
   ]
  },
  {
   "cell_type": "markdown",
   "id": "4bef64e9",
   "metadata": {},
   "source": [
    "\n",
    "## Exercise 2\n",
    "\n",
    "Write a (single) recursive function, `to_binary()`, that [converts](https://en.wikipedia.org/wiki/Binary_number#Conversion_to_and_from_other_numeral_systems) an integer into its [binary](https://en.wikipedia.org/wiki/Binary_number) representation. So, for example:\n",
    "\n",
    "```python\n",
    "to_binary(2)   -->  10\n",
    "to_binary(12)  -->  1100\n",
    "```\n",
    "\n",
    "*Note: you can test your function with the built in `bin()` function.*"
   ]
  },
  {
   "cell_type": "code",
   "execution_count": null,
   "id": "eb033460",
   "metadata": {},
   "outputs": [],
   "source": [
    "\"\"\"\n",
    "This is a recursive funtion that converts an integer into its binary representation.\n",
    "Parameters:\n",
    " n: It is a non-negative integer to convert into binary representation.\n",
    "Returns:\n",
    " This fuction will return binary representation of a given number n \n",
    "\"\"\"\n",
    "def to_binary(n):\n",
    "    # This is the base case to exit the recursive function.\n",
    "    if n == 0:\n",
    "        return '0'\n",
    "    if n == 1:\n",
    "        return '1'\n",
    "    # This divides the number by 2 and returns the remainder until the number becomes 0.\n",
    "    return to_binary(n // 2) + str(n % 2)"
   ]
  },
  {
   "cell_type": "code",
   "execution_count": 10,
   "id": "8a1cf9b1",
   "metadata": {},
   "outputs": [
    {
     "data": {
      "text/plain": [
       "'10'"
      ]
     },
     "execution_count": 10,
     "metadata": {},
     "output_type": "execute_result"
    }
   ],
   "source": [
    "to_binary(2)"
   ]
  },
  {
   "cell_type": "code",
   "execution_count": 12,
   "id": "37160f48",
   "metadata": {},
   "outputs": [
    {
     "data": {
      "text/plain": [
       "'1100'"
      ]
     },
     "execution_count": 12,
     "metadata": {},
     "output_type": "execute_result"
    }
   ],
   "source": [
    "to_binary(12)\n"
   ]
  },
  {
   "cell_type": "markdown",
   "id": "dd991538",
   "metadata": {},
   "source": [
    "## Exercise 3 \n",
    "\n",
    "Use the raw Bellevue Almshouse Dataset (`df_bellevue`) extracted at the top of the lab (i.e., with `pd.read_csv ...`).\n",
    "\n",
    "**Write a function for each of the following tasks. Name these functions `task_i()`** (i.e., without any input arguments).\n",
    "\n",
    "1. Return a list of all column names, *sorted* such that the first column has the *least* missing values, and the last column has the *most* missing values (use the raw column names).\n",
    "   - *Note: there is an issue with the `gender` column you'll need to remedy first ...*\n",
    "2. Return a **data frame** with two columns:\n",
    "   - the year (for each year in the data), `year`\n",
    "   - the total number of entries (immigrant admissions) for each year, `total_admissions`\n",
    "3. Return a **series** with:\n",
    "   - Index: gender (for each gender in the data)\n",
    "   - Values: the average age for the indexed gender.\n",
    "4. Return a list of the 5 most common professions *in order of prevalence* (so, the most common is first).\n",
    "\n",
    "For each of these, if there are messy data issues, use the `print` statement to explain.\n"
   ]
  },
  {
   "cell_type": "code",
   "execution_count": null,
   "id": "5993ce51",
   "metadata": {},
   "outputs": [
    {
     "name": "stdout",
     "output_type": "stream",
     "text": [
      "{'date_in': 0, 'last_name': 0, 'first_name': 4, 'gender': 5, 'age': 50, 'profession': 1019, 'disease': 3087, 'children': 9547}\n",
      "['date_in', 'last_name', 'first_name', 'gender', 'age', 'profession', 'disease', 'children']\n"
     ]
    }
   ],
   "source": [
    "\"\"\"\n",
    "This funtion returns list of all columns sorted in ascending order of least missing values. \n",
    "\"\"\"\n",
    "import pandas as pd\n",
    "import numpy as np\n",
    "\n",
    "url = 'https://github.com/melaniewalsh/Intro-Cultural-Analytics/raw/master/book/data/bellevue_almshouse_modified.csv'\n",
    "#This creates a dataframe from the csv file and read it.\n",
    "df_bellevue = pd.read_csv(url)\n",
    "#This replaces the null values with nan values in the dataframe.\n",
    "df_bellevue.replace(\"\", np.nan, inplace=True)\n",
    "\n",
    "#this function returns list of all columns sorted in ascending order of least missing values.\n",
    "def task_1():\n",
    "    temp_df = df_bellevue\n",
    "\n",
    "    # cleaning gender column\n",
    "    temp_df['gender'] = temp_df['gender'].replace(['?', 'g', 'h'], np.nan)\n",
    "\n",
    "    #counting null values in each column\n",
    "    column_null_count = temp_df.isnull().sum().to_dict()\n",
    "    \n",
    "    #sorting the columns based on null values in ascending order\n",
    "    sorted_column_null_count = dict(sorted(column_null_count.items(), key=lambda item: item[1]))\n",
    "    print(sorted_column_null_count)\n",
    "    \n",
    "    column_list = list(sorted_column_null_count.keys())\n",
    "    return column_list[::-1]\n",
    "\n",
    "print(task_1())\n",
    "\n",
    "    "
   ]
  },
  {
   "cell_type": "code",
   "execution_count": null,
   "id": "83b1143a",
   "metadata": {},
   "outputs": [
    {
     "data": {
      "text/html": [
       "<div>\n",
       "<style scoped>\n",
       "    .dataframe tbody tr th:only-of-type {\n",
       "        vertical-align: middle;\n",
       "    }\n",
       "\n",
       "    .dataframe tbody tr th {\n",
       "        vertical-align: top;\n",
       "    }\n",
       "\n",
       "    .dataframe thead th {\n",
       "        text-align: right;\n",
       "    }\n",
       "</style>\n",
       "<table border=\"1\" class=\"dataframe\">\n",
       "  <thead>\n",
       "    <tr style=\"text-align: right;\">\n",
       "      <th></th>\n",
       "      <th>year</th>\n",
       "      <th>total_admissions</th>\n",
       "    </tr>\n",
       "  </thead>\n",
       "  <tbody>\n",
       "    <tr>\n",
       "      <th>0</th>\n",
       "      <td>1846</td>\n",
       "      <td>3073</td>\n",
       "    </tr>\n",
       "    <tr>\n",
       "      <th>1</th>\n",
       "      <td>1847</td>\n",
       "      <td>6511</td>\n",
       "    </tr>\n",
       "  </tbody>\n",
       "</table>\n",
       "</div>"
      ],
      "text/plain": [
       "   year  total_admissions\n",
       "0  1846              3073\n",
       "1  1847              6511"
      ]
     },
     "execution_count": 4,
     "metadata": {},
     "output_type": "execute_result"
    }
   ],
   "source": [
    "\"\"\"\n",
    "This funtion returns two columns \"year\" and \"total admissons\" correstponding to each year. \n",
    "\"\"\"\n",
    "def task_2():\n",
    "    #df_immigrant_data = df_bellevue[df_bellevue['disease'] ==  'recent emigrant']\n",
    "    #print(df_immigrant_data)\n",
    "    df_result = pd.DataFrame(columns=['year', 'total_admissions'])\n",
    "    #df_filtered_data = df_bellevue.dropna(subset=['disease'])\n",
    "    df_result['year'] = pd.to_datetime(df_bellevue['date_in'])\n",
    "    df_result['year'] = df_result['year'].dt.year\n",
    "\n",
    "    total_admissions = df_result.groupby('year').size().reset_index(name='total_admissions')\n",
    "    return total_admissions\n",
    "\n",
    "task_2()"
   ]
  },
  {
   "cell_type": "code",
   "execution_count": null,
   "id": "dcd9fd37",
   "metadata": {},
   "outputs": [
    {
     "data": {
      "text/plain": [
       "gender\n",
       "g    59.000000\n",
       "h    56.000000\n",
       "m    31.813433\n",
       "w    28.725162\n",
       "Name: age, dtype: float64"
      ]
     },
     "execution_count": 5,
     "metadata": {},
     "output_type": "execute_result"
    }
   ],
   "source": [
    "\"\"\"\n",
    "This function returns a series with each gender and average age corresponding to each gender. \n",
    "\"\"\"\n",
    "def task_3():\n",
    "    average_age_by_gender = df_bellevue.groupby('gender')['age'].mean().dropna()\n",
    "    return average_age_by_gender\n",
    "task_3()"
   ]
  },
  {
   "cell_type": "code",
   "execution_count": null,
   "id": "0bab50e9",
   "metadata": {},
   "outputs": [
    {
     "data": {
      "text/plain": [
       "gender\n",
       "g    59.000000\n",
       "h    56.000000\n",
       "m    31.813433\n",
       "w    28.725162\n",
       "Name: age, dtype: float64"
      ]
     },
     "execution_count": 6,
     "metadata": {},
     "output_type": "execute_result"
    }
   ],
   "source": [
    "\"\"\"\n",
    "This function returns a series with each gender with top 5 professions corresponding to each gender. \n",
    "\"\"\"\n",
    "def task_4():\n",
    "    top_5_professions = df_bellevue['profession'].value_counts().head(5).index.tolist()\n",
    "    return top_5_professions\n",
    "\n",
    "task_3()"
   ]
  },
  {
   "cell_type": "code",
   "execution_count": 7,
   "id": "98634c16",
   "metadata": {},
   "outputs": [
    {
     "name": "stdout",
     "output_type": "stream",
     "text": [
      "1100\n"
     ]
    }
   ],
   "source": [
    "def to_binary(n):\n",
    "    if n == 0:\n",
    "        return '0'\n",
    "    if n == 1:\n",
    "        return '1'\n",
    "    return to_binary(n // 2) + str(n % 2)\n",
    "\n",
    "print(to_binary(12))"
   ]
  }
 ],
 "metadata": {
  "kernelspec": {
   "display_name": "base",
   "language": "python",
   "name": "python3"
  },
  "language_info": {
   "codemirror_mode": {
    "name": "ipython",
    "version": 3
   },
   "file_extension": ".py",
   "mimetype": "text/x-python",
   "name": "python",
   "nbconvert_exporter": "python",
   "pygments_lexer": "ipython3",
   "version": "3.11.11"
  }
 },
 "nbformat": 4,
 "nbformat_minor": 5
}
